{
 "cells": [
  {
   "cell_type": "markdown",
   "id": "e0057d11",
   "metadata": {},
   "source": [
    "# Simple sum\n",
    "\n",
    "In this example, we use the Pynq-Z2 to retrieve an addition result. First, you need to generate the .bit and .hwh files. Once this is done, put them in the same folder as this notebook.\n",
    "\n",
    "**Note**: they must have the same name.\n",
    "\n",
    "Let's import the pynq library and reset the FPGA."
   ]
  },
  {
   "cell_type": "code",
   "execution_count": 1,
   "id": "79f4d03f",
   "metadata": {},
   "outputs": [],
   "source": [
    "from pynq import Overlay, PL\n",
    "\n",
    "PL.reset()"
   ]
  },
  {
   "cell_type": "markdown",
   "id": "213d3472",
   "metadata": {},
   "source": [
    "Now, let's read the .bit file and configure the FPGA."
   ]
  },
  {
   "cell_type": "code",
   "execution_count": 2,
   "id": "3c5b2c33",
   "metadata": {},
   "outputs": [
    {
     "data": {
      "application/javascript": "\ntry {\nrequire(['notebook/js/codecell'], function(codecell) {\n  codecell.CodeCell.options_default.highlight_modes[\n      'magic_text/x-csrc'] = {'reg':[/^%%microblaze/]};\n  Jupyter.notebook.events.one('kernel_ready.Kernel', function(){\n      Jupyter.notebook.get_cells().map(function(cell){\n          if (cell.cell_type == 'code'){ cell.auto_highlight(); } }) ;\n  });\n});\n} catch (e) {};\n"
     },
     "metadata": {},
     "output_type": "display_data"
    },
    {
     "data": {
      "application/javascript": "\ntry {\nrequire(['notebook/js/codecell'], function(codecell) {\n  codecell.CodeCell.options_default.highlight_modes[\n      'magic_text/x-csrc'] = {'reg':[/^%%pybind11/]};\n  Jupyter.notebook.events.one('kernel_ready.Kernel', function(){\n      Jupyter.notebook.get_cells().map(function(cell){\n          if (cell.cell_type == 'code'){ cell.auto_highlight(); } }) ;\n  });\n});\n} catch (e) {};\n"
     },
     "metadata": {},
     "output_type": "display_data"
    }
   ],
   "source": [
    "overlay = Overlay(\"./design_1.bit\")"
   ]
  },
  {
   "cell_type": "markdown",
   "id": "6a287705",
   "metadata": {},
   "source": [
    "## Interact with the IP Core\n",
    "\n",
    "We print the keys of the overlay to get the IP core name. In this example, it is named **sum_0**. **processing_system7_0** corresponds to the Zynq SoC."
   ]
  },
  {
   "cell_type": "code",
   "execution_count": 3,
   "id": "975a5907",
   "metadata": {},
   "outputs": [
    {
     "data": {
      "text/plain": [
       "dict_keys(['sum_0', 'processing_system7_0'])"
      ]
     },
     "execution_count": 3,
     "metadata": {},
     "output_type": "execute_result"
    }
   ],
   "source": [
    "overlay.ip_dict.keys()"
   ]
  },
  {
   "cell_type": "markdown",
   "id": "1c7ff252",
   "metadata": {},
   "source": [
    "Let's retrieve our IP core to interact with it later."
   ]
  },
  {
   "cell_type": "code",
   "execution_count": 4,
   "id": "794eb037",
   "metadata": {},
   "outputs": [],
   "source": [
    "sum_0 = overlay.sum_0"
   ]
  },
  {
   "cell_type": "markdown",
   "id": "6963efed",
   "metadata": {},
   "source": [
    "Now, we should also retrieve our fields (variables of the top function)."
   ]
  },
  {
   "cell_type": "code",
   "execution_count": 5,
   "id": "3b74b805",
   "metadata": {},
   "outputs": [
    {
     "data": {
      "application/json": {
       "access": "write-only",
       "address_offset": 16,
       "description": "Data signal of a",
       "fields": {
        "a": {
         "access": "write-only",
         "bit_offset": 0,
         "bit_width": 32,
         "description": "Bit 31 to 0 of a"
        }
       },
       "size": 32
      },
      "text/plain": [
       "{'address_offset': 16,\n",
       " 'size': 32,\n",
       " 'access': 'write-only',\n",
       " 'description': 'Data signal of a',\n",
       " 'fields': {'a': {'bit_offset': 0,\n",
       "   'bit_width': 32,\n",
       "   'access': 'write-only',\n",
       "   'description': 'Bit 31 to 0 of a'}}}"
      ]
     },
     "execution_count": 5,
     "metadata": {
      "application/json": {
       "expanded": false,
       "root": "a"
      }
     },
     "output_type": "execute_result"
    }
   ],
   "source": [
    "overlay.ip_dict[\"sum_0\"]['registers'][\"a\"]"
   ]
  },
  {
   "cell_type": "code",
   "execution_count": 6,
   "id": "4347705f",
   "metadata": {},
   "outputs": [
    {
     "data": {
      "application/json": {
       "access": "write-only",
       "address_offset": 24,
       "description": "Data signal of b",
       "fields": {
        "b": {
         "access": "write-only",
         "bit_offset": 0,
         "bit_width": 32,
         "description": "Bit 31 to 0 of b"
        }
       },
       "size": 32
      },
      "text/plain": [
       "{'address_offset': 24,\n",
       " 'size': 32,\n",
       " 'access': 'write-only',\n",
       " 'description': 'Data signal of b',\n",
       " 'fields': {'b': {'bit_offset': 0,\n",
       "   'bit_width': 32,\n",
       "   'access': 'write-only',\n",
       "   'description': 'Bit 31 to 0 of b'}}}"
      ]
     },
     "execution_count": 6,
     "metadata": {
      "application/json": {
       "expanded": false,
       "root": "b"
      }
     },
     "output_type": "execute_result"
    }
   ],
   "source": [
    "overlay.ip_dict[\"sum_0\"]['registers'][\"b\"]"
   ]
  },
  {
   "cell_type": "code",
   "execution_count": 7,
   "id": "07b22a51",
   "metadata": {},
   "outputs": [
    {
     "data": {
      "application/json": {
       "access": "read-only",
       "address_offset": 32,
       "description": "Data signal of c",
       "fields": {
        "c": {
         "access": "read-only",
         "bit_offset": 0,
         "bit_width": 32,
         "description": "Bit 31 to 0 of c"
        }
       },
       "size": 32
      },
      "text/plain": [
       "{'address_offset': 32,\n",
       " 'size': 32,\n",
       " 'access': 'read-only',\n",
       " 'description': 'Data signal of c',\n",
       " 'fields': {'c': {'bit_offset': 0,\n",
       "   'bit_width': 32,\n",
       "   'access': 'read-only',\n",
       "   'description': 'Bit 31 to 0 of c'}}}"
      ]
     },
     "execution_count": 7,
     "metadata": {
      "application/json": {
       "expanded": false,
       "root": "c"
      }
     },
     "output_type": "execute_result"
    }
   ],
   "source": [
    "overlay.ip_dict[\"sum_0\"]['registers'][\"c\"]"
   ]
  },
  {
   "cell_type": "markdown",
   "id": "f8011c04",
   "metadata": {},
   "source": [
    "Reading the *address_offset* address, we now know where to write the data!\n",
    "\n",
    "Let's write numbers in *a* and *b*."
   ]
  },
  {
   "cell_type": "code",
   "execution_count": 8,
   "id": "8554967f",
   "metadata": {},
   "outputs": [],
   "source": [
    "sum_0.write(16, 5)"
   ]
  },
  {
   "cell_type": "code",
   "execution_count": 9,
   "id": "58888091",
   "metadata": {},
   "outputs": [],
   "source": [
    "sum_0.write(24, 99)"
   ]
  },
  {
   "cell_type": "markdown",
   "id": "4bf2f113",
   "metadata": {},
   "source": [
    "Now, let's start our IP core. To do so, we must indicate a value in the register 0. If we set it to 0x01, this will allow the FPGA to run the IP core once. Setting it to 0x81 will allow it to run as a loop."
   ]
  },
  {
   "cell_type": "code",
   "execution_count": 10,
   "id": "e04210a2",
   "metadata": {},
   "outputs": [],
   "source": [
    "sum_0.write(0, 0x81)"
   ]
  },
  {
   "cell_type": "markdown",
   "id": "b255ecc5",
   "metadata": {},
   "source": [
    "Now, let's get our result in the register *c*."
   ]
  },
  {
   "cell_type": "code",
   "execution_count": 11,
   "id": "514d60c8",
   "metadata": {},
   "outputs": [
    {
     "data": {
      "text/plain": [
       "104"
      ]
     },
     "execution_count": 11,
     "metadata": {},
     "output_type": "execute_result"
    }
   ],
   "source": [
    "sum_0.read(32)"
   ]
  },
  {
   "cell_type": "markdown",
   "id": "a7d865a2",
   "metadata": {},
   "source": [
    "The result is correct! We have deployed an IP core."
   ]
  }
 ],
 "metadata": {
  "kernelspec": {
   "display_name": "Python 3 (ipykernel)",
   "language": "python",
   "name": "python3"
  },
  "language_info": {
   "codemirror_mode": {
    "name": "ipython",
    "version": 3
   },
   "file_extension": ".py",
   "mimetype": "text/x-python",
   "name": "python",
   "nbconvert_exporter": "python",
   "pygments_lexer": "ipython3",
   "version": "3.10.4"
  }
 },
 "nbformat": 4,
 "nbformat_minor": 5
}
