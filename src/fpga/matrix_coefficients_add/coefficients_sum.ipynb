{
 "cells": [
  {
   "cell_type": "markdown",
   "id": "102acb3d",
   "metadata": {},
   "source": [
    "# Summing matrix coefficients\n",
    "\n",
    "In this notebook, we synthetise and implement an IP core that allows us to sum the coefficients of a $3\\times 3$ matrix. Firstly, make sure you have imported *coef_add.cpp* in Vitis 2024.2 and synthetised and implemented. Also generate the Vivado 2024.2 design and export the bitstream and hardware handoff files: we will use them in this notebook.\n",
    "\n",
    "## Imports\n",
    "\n",
    "Firstly, import the libraries to reset the FPGA, import the Bitstream file and interact with the IP Core. "
   ]
  },
  {
   "cell_type": "code",
   "execution_count": null,
   "id": "033cbe84",
   "metadata": {},
   "outputs": [],
   "source": [
    "from pynq import Overlay, DefaultIP, PL\n",
    "from IPython.display import Image\n",
    "import time\n",
    "import numpy as np\n",
    "import cv2\n",
    "\n",
    "PL.reset()"
   ]
  },
  {
   "cell_type": "markdown",
   "id": "14ab3cff",
   "metadata": {},
   "source": [
    "## .bit & .hwh files\n",
    "\n",
    "Import the Overlay with the corresponding *.bit* file."
   ]
  },
  {
   "cell_type": "code",
   "execution_count": 2,
   "id": "a9ab9d99",
   "metadata": {},
   "outputs": [
    {
     "data": {
      "application/javascript": "\ntry {\nrequire(['notebook/js/codecell'], function(codecell) {\n  codecell.CodeCell.options_default.highlight_modes[\n      'magic_text/x-csrc'] = {'reg':[/^%%microblaze/]};\n  Jupyter.notebook.events.one('kernel_ready.Kernel', function(){\n      Jupyter.notebook.get_cells().map(function(cell){\n          if (cell.cell_type == 'code'){ cell.auto_highlight(); } }) ;\n  });\n});\n} catch (e) {};\n"
     },
     "metadata": {},
     "output_type": "display_data"
    },
    {
     "data": {
      "application/javascript": "\ntry {\nrequire(['notebook/js/codecell'], function(codecell) {\n  codecell.CodeCell.options_default.highlight_modes[\n      'magic_text/x-csrc'] = {'reg':[/^%%pybind11/]};\n  Jupyter.notebook.events.one('kernel_ready.Kernel', function(){\n      Jupyter.notebook.get_cells().map(function(cell){\n          if (cell.cell_type == 'code'){ cell.auto_highlight(); } }) ;\n  });\n});\n} catch (e) {};\n"
     },
     "metadata": {},
     "output_type": "display_data"
    }
   ],
   "source": [
    "overlay = Overlay(\"./sum.bit\")"
   ]
  },
  {
   "cell_type": "markdown",
   "id": "16c75fd8",
   "metadata": {},
   "source": [
    "## Interact with the IP Core\n",
    "\n",
    "We print the keys of the overlay to get the IP core name. In this example, it is named **sum_0**. **processing_system7_0** corresponds to the Zynq SoC."
   ]
  },
  {
   "cell_type": "code",
   "execution_count": 3,
   "id": "ad4eb261",
   "metadata": {},
   "outputs": [
    {
     "data": {
      "text/plain": [
       "dict_keys(['sum_0', 'processing_system7_0'])"
      ]
     },
     "execution_count": 3,
     "metadata": {},
     "output_type": "execute_result"
    }
   ],
   "source": [
    "overlay.ip_dict.keys()"
   ]
  },
  {
   "cell_type": "markdown",
   "id": "b72ebebd",
   "metadata": {},
   "source": [
    "We assign the IP core to a variable to interact with it."
   ]
  },
  {
   "cell_type": "code",
   "execution_count": 4,
   "id": "88956eb9",
   "metadata": {},
   "outputs": [],
   "source": [
    "sum_0 = overlay.sum_0"
   ]
  },
  {
   "cell_type": "markdown",
   "id": "cbf9bcd5",
   "metadata": {},
   "source": [
    "We create a function named **get_register_offset** which allows us to get the address offsets. This allows us to write data in the IP core using AXI Lite."
   ]
  },
  {
   "cell_type": "code",
   "execution_count": 6,
   "id": "a491d1d8",
   "metadata": {},
   "outputs": [],
   "source": [
    "def get_register_offset(overlay, ip, parameter):\n",
    "    return overlay.ip_dict[ip]['registers'][parameter]['address_offset']"
   ]
  },
  {
   "cell_type": "code",
   "execution_count": 7,
   "id": "a80854db",
   "metadata": {},
   "outputs": [
    {
     "data": {
      "application/json": {
       "access": "read-only",
       "address_offset": 16,
       "description": "Data signal of res",
       "fields": {
        "res": {
         "access": "read-only",
         "bit_offset": 0,
         "bit_width": 32,
         "description": "Bit 31 to 0 of res"
        }
       },
       "size": 32
      },
      "text/plain": [
       "{'address_offset': 16,\n",
       " 'size': 32,\n",
       " 'access': 'read-only',\n",
       " 'description': 'Data signal of res',\n",
       " 'fields': {'res': {'bit_offset': 0,\n",
       "   'bit_width': 32,\n",
       "   'access': 'read-only',\n",
       "   'description': 'Bit 31 to 0 of res'}}}"
      ]
     },
     "execution_count": 7,
     "metadata": {
      "application/json": {
       "expanded": false,
       "root": "res"
      }
     },
     "output_type": "execute_result"
    }
   ],
   "source": [
    "overlay.ip_dict[\"sum_0\"]['registers'][\"res\"]"
   ]
  },
  {
   "cell_type": "code",
   "execution_count": 8,
   "id": "b3402dbe",
   "metadata": {},
   "outputs": [
    {
     "data": {
      "application/json": {
       "access": "read-write",
       "address_offset": 64,
       "description": "Memory mat",
       "fields": {},
       "size": 64
      },
      "text/plain": [
       "{'address_offset': 64,\n",
       " 'size': 64,\n",
       " 'access': 'read-write',\n",
       " 'description': 'Memory mat',\n",
       " 'fields': {}}"
      ]
     },
     "execution_count": 8,
     "metadata": {
      "application/json": {
       "expanded": false,
       "root": "Memory_mat"
      }
     },
     "output_type": "execute_result"
    }
   ],
   "source": [
    "overlay.ip_dict[\"sum_0\"]['registers'][\"Memory_mat\"]"
   ]
  },
  {
   "cell_type": "markdown",
   "id": "4543c372",
   "metadata": {},
   "source": [
    "For the **res** parameter, its value will be stored in address $16$, *i.e.* $0\\text{x}10$, and for **Memory_mat**, it is stored in $64=0\\text{x}40$.\n",
    "We now create a list of values $[\\![1, 9]\\!]$ which represents a $3\\times 3$ matrix."
   ]
  },
  {
   "cell_type": "code",
   "execution_count": 9,
   "id": "77d9aef2",
   "metadata": {},
   "outputs": [],
   "source": [
    "values = [i for i in range(9)]"
   ]
  },
  {
   "cell_type": "markdown",
   "id": "000c98f5",
   "metadata": {},
   "source": [
    "Using AXI Lite, we write each value to its respective address. As **Memory_mat**'s beginning address is at $0\\text{x}40$, each $i$-th value should be placed at $0\\text{x}40+4i$ for $i\\in[\\![0, 8]\\!]. Indeed, a integer is considered as a *word* which length is $4$. "
   ]
  },
  {
   "cell_type": "code",
   "execution_count": 10,
   "id": "11c3afe6",
   "metadata": {},
   "outputs": [],
   "source": [
    "for i in range(9):\n",
    "    sum_0.write(0x40 + i*4, values[i])"
   ]
  },
  {
   "cell_type": "markdown",
   "id": "a38d93f9",
   "metadata": {},
   "source": [
    "We start the IP core by setting the value to $1$ at the address $0\\text{x}0$."
   ]
  },
  {
   "cell_type": "code",
   "execution_count": 11,
   "id": "1f1b2811",
   "metadata": {},
   "outputs": [],
   "source": [
    "sum_0.write(0x00, 0x01)"
   ]
  },
  {
   "cell_type": "markdown",
   "id": "f772b81d",
   "metadata": {},
   "source": [
    "In this example, waiting for the result is not a problem, therefore we can directly read the result. However, in practical applications, it is better to use a DMA to yield the Python code. "
   ]
  },
  {
   "cell_type": "code",
   "execution_count": null,
   "id": "08fe67e7",
   "metadata": {},
   "outputs": [
    {
     "data": {
      "text/plain": [
       "36"
      ]
     },
     "execution_count": 12,
     "metadata": {},
     "output_type": "execute_result"
    }
   ],
   "source": [
    "sum_0.read(0x10)"
   ]
  },
  {
   "cell_type": "code",
   "execution_count": 13,
   "id": "b11e1847",
   "metadata": {},
   "outputs": [
    {
     "data": {
      "text/plain": [
       "36"
      ]
     },
     "execution_count": 13,
     "metadata": {},
     "output_type": "execute_result"
    }
   ],
   "source": [
    "sum(values)"
   ]
  }
 ],
 "metadata": {
  "kernelspec": {
   "display_name": "Python 3 (ipykernel)",
   "language": "python",
   "name": "python3"
  },
  "language_info": {
   "codemirror_mode": {
    "name": "ipython",
    "version": 3
   },
   "file_extension": ".py",
   "mimetype": "text/x-python",
   "name": "python",
   "nbconvert_exporter": "python",
   "pygments_lexer": "ipython3",
   "version": "3.10.4"
  }
 },
 "nbformat": 4,
 "nbformat_minor": 5
}
