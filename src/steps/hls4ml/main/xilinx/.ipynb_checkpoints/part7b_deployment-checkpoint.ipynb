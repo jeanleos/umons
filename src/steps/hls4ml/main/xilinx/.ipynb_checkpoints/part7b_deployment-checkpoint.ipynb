{
 "cells": [
  {
   "cell_type": "markdown",
   "id": "033cc4d9",
   "metadata": {},
   "source": [
    "# Deployment on Pynq-Z2\n",
    "\n",
    "The following section is the code to execute in the Pynq-Z2 jupyter notebook to execute NN inference. \n",
    "First, we import hls4ml's driver `Overlay` class. We also reset the FPGA through the pynq library"
   ]
  },
  {
   "cell_type": "code",
   "execution_count": 3,
   "id": "89c67e4f",
   "metadata": {},
   "outputs": [],
   "source": [
    "from axi_stream_driver import NeuralNetworkOverlay\n",
    "import numpy as np\n",
    "import cv2\n",
    "import matplotlib.pyplot as plt\n",
    "from pynq import PL\n",
    "\n",
    "PL.reset()"
   ]
  },
  {
   "cell_type": "markdown",
   "id": "95745db3",
   "metadata": {},
   "source": [
    "## Load an image"
   ]
  },
  {
   "cell_type": "code",
   "execution_count": 23,
   "id": "78f29900",
   "metadata": {},
   "outputs": [
    {
     "data": {
      "image/png": "[encoded data removed]",
      "text/plain": [
       "<Figure size 216x216 with 1 Axes>"
      ]
     },
     "metadata": {
      "needs_background": "light"
     },
     "output_type": "display_data"
    }
   ],
   "source": [
    "image = cv2.imread('00022_00193_outdoor_000_040.png')\n",
    "image_rgb = cv2.cvtColor(image, cv2.COLOR_BGR2RGB)\n",
    "resized_image = cv2.resize(image_rgb, (32, 32), interpolation=cv2.INTER_AREA)\n",
    "image_int32 = resized_image.astype(np.float32) / 255.0  \n",
    "\n",
    "plt.figure(figsize=(3, 3))\n",
    "plt.imshow(image_int32, cmap='jet')\n",
    "plt.axis('off')\n",
    "plt.show()"
   ]
  },
  {
   "cell_type": "code",
   "execution_count": 19,
   "id": "11dc9ab5",
   "metadata": {},
   "outputs": [
    {
     "data": {
      "text/plain": [
       "(32, 32, 3)"
      ]
     },
     "execution_count": 19,
     "metadata": {},
     "output_type": "execute_result"
    }
   ],
   "source": [
    "image_int32.shape"
   ]
  },
  {
   "cell_type": "markdown",
   "id": "551c5cd6",
   "metadata": {},
   "source": [
    "We create a `NeuralNetworkOverlay` object. This will download the `Overlay` (bitfile) onto the PL of the Pynq-Z2. We provide the input and output sizes to allocate some buffers for the data transfer."
   ]
  },
  {
   "cell_type": "code",
   "execution_count": 14,
   "id": "cfb786f3",
   "metadata": {},
   "outputs": [],
   "source": [
    "nn = NeuralNetworkOverlay('hls4ml_nn.bit', (32, 32, 3), (32, 32, 1))"
   ]
  },
  {
   "cell_type": "markdown",
   "id": "5fde9b2d",
   "metadata": {},
   "source": [
    "Now we can run the prediction. When setting `profile=True`, the function times the inference and prints out a summary as well as returning the profiling information."
   ]
  },
  {
   "cell_type": "code",
   "execution_count": 24,
   "id": "1fd6dee7",
   "metadata": {},
   "outputs": [
    {
     "name": "stdout",
     "output_type": "stream",
     "text": [
      "Classified 32 samples in 0.009191999999999999 seconds (3481.2880765883383 inferences / s)\n"
     ]
    }
   ],
   "source": [
    "y_hw, latency, throughput = nn.predict(image_int32, profile=True)"
   ]
  },
  {
   "cell_type": "markdown",
   "id": "a87d35c8",
   "metadata": {},
   "source": [
    "## Output the result\n",
    "\n",
    "We can use Matplotlib to show the result on the FPGA."
   ]
  },
  {
   "cell_type": "code",
   "execution_count": 26,
   "id": "981ffced",
   "metadata": {
    "scrolled": true
   },
   "outputs": [
    {
     "data": {
      "image/png": "[encoded data removed]",
      "text/plain": [
       "<Figure size 216x216 with 1 Axes>"
      ]
     },
     "metadata": {
      "needs_background": "light"
     },
     "output_type": "display_data"
    }
   ],
   "source": [
    "plt.figure(figsize=(3, 3))\n",
    "plt.imshow(y_hw, cmap='jet')\n",
    "plt.axis('off')\n",
    "plt.show()"
   ]
  },
  {
   "cell_type": "markdown",
   "id": "24e82200",
   "metadata": {},
   "source": [
    "## Comparison with an external image"
   ]
  },
  {
   "cell_type": "code",
   "execution_count": 57,
   "id": "e2d54bb3",
   "metadata": {},
   "outputs": [
    {
     "data": {
      "image/png": "[encoded data removed]",
      "text/plain": [
       "<Figure size 432x216 with 2 Axes>"
      ]
     },
     "metadata": {
      "needs_background": "light"
     },
     "output_type": "display_data"
    }
   ],
   "source": [
    "image = cv2.imread('IMG_1087.jpg')\n",
    "image_rgb = cv2.cvtColor(image, cv2.COLOR_BGR2RGB)\n",
    "resized_image = cv2.resize(image_rgb, (32, 32), interpolation=cv2.INTER_AREA)\n",
    "image_int32 = resized_image.astype(np.float32) / 255.0  \n",
    "\n",
    "y_hw = nn.predict(image_int32)\n",
    "\n",
    "fig, axes = plt.subplots(1, 2, figsize=(6, 3))\n",
    "\n",
    "axes[1].imshow(y_hw, cmap='jet')\n",
    "axes[1].axis('off')\n",
    "\n",
    "axes[0].imshow(image_int32, cmap='jet')\n",
    "axes[0].axis('off')\n",
    "\n",
    "plt.tight_layout()\n",
    "plt.show()"
   ]
  },
  {
   "cell_type": "markdown",
   "id": "b9e92d1e",
   "metadata": {},
   "source": [
    "## Camera\n",
    "\n",
    "We can also use a camera and try the model. It is expected that the model may not be accurate."
   ]
  },
  {
   "cell_type": "code",
   "execution_count": 30,
   "id": "da0ca0df",
   "metadata": {},
   "outputs": [],
   "source": [
    "from IPython.display import display, clear_output"
   ]
  },
  {
   "cell_type": "code",
   "execution_count": 54,
   "id": "e8a98fee",
   "metadata": {},
   "outputs": [
    {
     "data": {
      "image/png": "[encoded data removed]",
      "text/plain": [
       "<Figure size 216x216 with 1 Axes>"
      ]
     },
     "metadata": {
      "needs_background": "light"
     },
     "output_type": "display_data"
    },
    {
     "name": "stdout",
     "output_type": "stream",
     "text": [
      "Interrupted by user\n"
     ]
    }
   ],
   "source": [
    "cap = cv2.VideoCapture(0)\n",
    "\n",
    "try:\n",
    "    while True:\n",
    "        ret, frame = cap.read()\n",
    "        \n",
    "        if not ret:\n",
    "            print(\"Failed to grab frame\")\n",
    "            break\n",
    "        \n",
    "        #frame = cv2.rotate(frame, cv2.ROTATE_90_CLOCKWISE)\n",
    "        \n",
    "        image_rgb = cv2.cvtColor(frame, cv2.COLOR_BGR2RGB)\n",
    "        resized_image = cv2.resize(image_rgb, (32, 32), interpolation=cv2.INTER_AREA)\n",
    "        image_int32 = resized_image.astype(np.float32) / 255.0  \n",
    "        \n",
    "        clear_output(wait=True)\n",
    "        \n",
    "        plt.figure(figsize=(3, 3))\n",
    "        plt.imshow(image_int32, cmap='jet')\n",
    "        plt.axis('off')\n",
    "        plt.show()\n",
    "        \n",
    "        y_hw = nn.predict(image_int32)\n",
    "        \n",
    "        plt.figure(figsize=(3, 3))\n",
    "        plt.imshow(y_hw, cmap='jet')\n",
    "        plt.axis('off')\n",
    "        plt.show()\n",
    "        \n",
    "        #break\n",
    "\n",
    "except KeyboardInterrupt:\n",
    "    print(\"Interrupted by user\")\n",
    "\n",
    "finally:\n",
    "    cap.release()\n",
    "    cv2.destroyAllWindows()"
   ]
  }
 ],
 "metadata": {
  "kernelspec": {
   "display_name": "Python 3 (ipykernel)",
   "language": "python",
   "name": "python3"
  },
  "language_info": {
   "codemirror_mode": {
    "name": "ipython",
    "version": 3
   },
   "file_extension": ".py",
   "mimetype": "text/x-python",
   "name": "python",
   "nbconvert_exporter": "python",
   "pygments_lexer": "ipython3",
   "version": "3.10.4"
  }
 },
 "nbformat": 4,
 "nbformat_minor": 5
}
