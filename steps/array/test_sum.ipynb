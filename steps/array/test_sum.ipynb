{
 "cells": [
  {
   "cell_type": "markdown",
   "id": "102acb3d",
   "metadata": {},
   "source": [
    "# Imports"
   ]
  },
  {
   "cell_type": "code",
   "execution_count": 1,
   "id": "033cbe84",
   "metadata": {},
   "outputs": [],
   "source": [
    "from pynq import Overlay, DefaultIP\n",
    "from IPython.display import Image\n",
    "import time\n",
    "import numpy as np\n",
    "import cv2"
   ]
  },
  {
   "cell_type": "markdown",
   "id": "14ab3cff",
   "metadata": {},
   "source": [
    "# .bit & .hwh files"
   ]
  },
  {
   "cell_type": "code",
   "execution_count": 2,
   "id": "a9ab9d99",
   "metadata": {},
   "outputs": [
    {
     "data": {
      "application/javascript": [
       "\n",
       "try {\n",
       "require(['notebook/js/codecell'], function(codecell) {\n",
       "  codecell.CodeCell.options_default.highlight_modes[\n",
       "      'magic_text/x-csrc'] = {'reg':[/^%%microblaze/]};\n",
       "  Jupyter.notebook.events.one('kernel_ready.Kernel', function(){\n",
       "      Jupyter.notebook.get_cells().map(function(cell){\n",
       "          if (cell.cell_type == 'code'){ cell.auto_highlight(); } }) ;\n",
       "  });\n",
       "});\n",
       "} catch (e) {};\n"
      ]
     },
     "metadata": {},
     "output_type": "display_data"
    },
    {
     "data": {
      "application/javascript": [
       "\n",
       "try {\n",
       "require(['notebook/js/codecell'], function(codecell) {\n",
       "  codecell.CodeCell.options_default.highlight_modes[\n",
       "      'magic_text/x-csrc'] = {'reg':[/^%%pybind11/]};\n",
       "  Jupyter.notebook.events.one('kernel_ready.Kernel', function(){\n",
       "      Jupyter.notebook.get_cells().map(function(cell){\n",
       "          if (cell.cell_type == 'code'){ cell.auto_highlight(); } }) ;\n",
       "  });\n",
       "});\n",
       "} catch (e) {};\n"
      ]
     },
     "metadata": {},
     "output_type": "display_data"
    }
   ],
   "source": [
    "overlay = Overlay(\"./sum.bit\")"
   ]
  },
  {
   "cell_type": "code",
   "execution_count": 3,
   "id": "ad4eb261",
   "metadata": {},
   "outputs": [
    {
     "data": {
      "text/plain": [
       "dict_keys(['sum_0', 'processing_system7_0'])"
      ]
     },
     "execution_count": 3,
     "metadata": {},
     "output_type": "execute_result"
    }
   ],
   "source": [
    "overlay.ip_dict.keys()"
   ]
  },
  {
   "cell_type": "code",
   "execution_count": 4,
   "id": "88956eb9",
   "metadata": {},
   "outputs": [],
   "source": [
    "sum_0 = overlay.sum_0"
   ]
  },
  {
   "cell_type": "code",
   "execution_count": 5,
   "id": "6feee288",
   "metadata": {},
   "outputs": [
    {
     "data": {
      "text/plain": [
       "Register(value=0)"
      ]
     },
     "execution_count": 5,
     "metadata": {},
     "output_type": "execute_result"
    }
   ],
   "source": [
    "sum_0.register_map.Memory_mat"
   ]
  },
  {
   "cell_type": "code",
   "execution_count": 6,
   "id": "a491d1d8",
   "metadata": {},
   "outputs": [],
   "source": [
    "def get_register_offset(overlay, ip, parameter):\n",
    "    return overlay.ip_dict[ip]['registers'][parameter]['address_offset']"
   ]
  },
  {
   "cell_type": "code",
   "execution_count": 7,
   "id": "a80854db",
   "metadata": {},
   "outputs": [
    {
     "data": {
      "application/json": {
       "access": "read-only",
       "address_offset": 16,
       "description": "Data signal of res",
       "fields": {
        "res": {
         "access": "read-only",
         "bit_offset": 0,
         "bit_width": 32,
         "description": "Bit 31 to 0 of res"
        }
       },
       "size": 32
      },
      "text/plain": [
       "{'address_offset': 16,\n",
       " 'size': 32,\n",
       " 'access': 'read-only',\n",
       " 'description': 'Data signal of res',\n",
       " 'fields': {'res': {'bit_offset': 0,\n",
       "   'bit_width': 32,\n",
       "   'access': 'read-only',\n",
       "   'description': 'Bit 31 to 0 of res'}}}"
      ]
     },
     "execution_count": 7,
     "metadata": {
      "application/json": {
       "expanded": false,
       "root": "res"
      }
     },
     "output_type": "execute_result"
    }
   ],
   "source": [
    "overlay.ip_dict[\"sum_0\"]['registers'][\"res\"]"
   ]
  },
  {
   "cell_type": "code",
   "execution_count": 8,
   "id": "b3402dbe",
   "metadata": {},
   "outputs": [
    {
     "data": {
      "application/json": {
       "access": "read-write",
       "address_offset": 64,
       "description": "Memory mat",
       "fields": {},
       "size": 64
      },
      "text/plain": [
       "{'address_offset': 64,\n",
       " 'size': 64,\n",
       " 'access': 'read-write',\n",
       " 'description': 'Memory mat',\n",
       " 'fields': {}}"
      ]
     },
     "execution_count": 8,
     "metadata": {
      "application/json": {
       "expanded": false,
       "root": "Memory_mat"
      }
     },
     "output_type": "execute_result"
    }
   ],
   "source": [
    "overlay.ip_dict[\"sum_0\"]['registers'][\"Memory_mat\"]"
   ]
  },
  {
   "cell_type": "code",
   "execution_count": 9,
   "id": "77d9aef2",
   "metadata": {},
   "outputs": [],
   "source": [
    "values = [i for i in range(9)]"
   ]
  },
  {
   "cell_type": "code",
   "execution_count": 10,
   "id": "11c3afe6",
   "metadata": {},
   "outputs": [],
   "source": [
    "for i in range(9):\n",
    "    sum_0.write(0x40 + i*4, values[i])"
   ]
  },
  {
   "cell_type": "code",
   "execution_count": 11,
   "id": "1f1b2811",
   "metadata": {},
   "outputs": [],
   "source": [
    "sum_0.write(0x00, 0x01)"
   ]
  },
  {
   "cell_type": "code",
   "execution_count": 12,
   "id": "08fe67e7",
   "metadata": {},
   "outputs": [
    {
     "data": {
      "text/plain": [
       "36"
      ]
     },
     "execution_count": 12,
     "metadata": {},
     "output_type": "execute_result"
    }
   ],
   "source": [
    "sum_0.read(0x10)"
   ]
  },
  {
   "cell_type": "code",
   "execution_count": 13,
   "id": "b11e1847",
   "metadata": {},
   "outputs": [
    {
     "data": {
      "text/plain": [
       "36"
      ]
     },
     "execution_count": 13,
     "metadata": {},
     "output_type": "execute_result"
    }
   ],
   "source": [
    "sum(values)"
   ]
  },
  {
   "cell_type": "markdown",
   "id": "8b547e1f",
   "metadata": {},
   "source": [
    "# Image manipulation"
   ]
  },
  {
   "cell_type": "code",
   "execution_count": 14,
   "id": "9de1bf3b",
   "metadata": {},
   "outputs": [],
   "source": [
    "def image_read(fname):\n",
    "    fp = open(fname,'r') \n",
    "    tmp = int(fp.readline())\n",
    "    width = tmp\n",
    "    tmp = int(fp.readline()) \n",
    "    height = tmp;\n",
    "    in_width  = width\n",
    "    in_height = height \n",
    "    in_ch1 = [[0 for y in range(height)] for x in range(width)]\n",
    "    in_ch2 = [[0 for y in range(height)] for x in range(width)]\n",
    "    in_ch3 = [[0 for y in range(height)] for x in range(width)]\n",
    "    for x in range(width): \n",
    "        for y in range(height):\n",
    "            tmp = int(fp.readline())\n",
    "            in_ch1[x][y] = int(tmp)\n",
    "            tmp = int(fp.readline())\n",
    "            in_ch2[x][y] = tmp \n",
    "            tmp = int(fp.readline())\n",
    "            in_ch3[x][y] =  tmp\n",
    "    fp.close() \n",
    "    return in_width, in_height, in_ch1, in_ch2, in_ch3"
   ]
  },
  {
   "cell_type": "code",
   "execution_count": 15,
   "id": "d1ad6608",
   "metadata": {},
   "outputs": [],
   "source": [
    "def image_write(out_width, out_height, out_ch1, out_ch2, out_ch3, fname):\n",
    "    fp = open(fname,'w')\n",
    "    width = out_width   \n",
    "    fp.write('{}\\n'.format(width)); \n",
    "    height = out_height  \n",
    "    fp.write('{}\\n'.format(height));\n",
    "    for x in range(width):   \n",
    "        for y in range(height):  \n",
    "            tmp = out_ch1[x][y] \n",
    "            fp.write('{}\\n'.format(tmp))\n",
    "            tmp = out_ch2[x][y]  \n",
    "            fp.write('{}\\n'.format(tmp)) \n",
    "            tmp = out_ch3[x][y] \n",
    "            fp.write('{}\\n'.format(tmp))\n",
    "    fp.close()   # fclose(fp);"
   ]
  },
  {
   "cell_type": "code",
   "execution_count": 22,
   "id": "b616c178",
   "metadata": {},
   "outputs": [],
   "source": [
    "def display(file_jpg):\n",
    "    return Image(filename=file_jpg) "
   ]
  },
  {
   "cell_type": "code",
   "execution_count": 17,
   "id": "a1dca4e7",
   "metadata": {},
   "outputs": [],
   "source": [
    "def raw_rgb_image(in_width, in_height, in_ch1, in_ch2, in_ch3):\n",
    "    \n",
    "    rgb = np.ndarray((in_width,in_height,3), np.int16)  \n",
    "    rgb[:,:,0] = in_ch1\n",
    "    rgb[:,:,1] = in_ch2\n",
    "    rgb[:,:,2] = in_ch3\n",
    "    \n",
    "    return rgb"
   ]
  },
  {
   "cell_type": "code",
   "execution_count": 18,
   "id": "af0f0d6d",
   "metadata": {},
   "outputs": [],
   "source": [
    "#Convert .data to .jpg\n",
    "def dat2jpg(file_data, file_jpg):\n",
    "    tmp_width, tmp_height, tmp_ch1, tmp_ch2, tmp_ch3 = image_read(file_data)\n",
    "    new_rgb = raw_rgb_image(tmp_width, tmp_height, tmp_ch1, tmp_ch2, tmp_ch3)\n",
    "    cv2.imwrite(file_jpg, new_rgb) "
   ]
  },
  {
   "cell_type": "code",
   "execution_count": 19,
   "id": "6d889d4e",
   "metadata": {},
   "outputs": [],
   "source": [
    "def get_duration(start, end):\n",
    "    delta_t = round((end - start) * 1000, 1)\n",
    "    print('Duration : {0} ms'.format(delta_t))\n",
    "    return delta_t"
   ]
  },
  {
   "cell_type": "code",
   "execution_count": 20,
   "id": "94cebe49",
   "metadata": {},
   "outputs": [],
   "source": [
    "#openimg(\"./input.dat\");"
   ]
  },
  {
   "cell_type": "code",
   "execution_count": 23,
   "id": "e97fc3c2",
   "metadata": {},
   "outputs": [
    {
     "data": {
      "image/jpeg": "[encoded data removed]",
      "text/plain": [
       "<IPython.core.display.Image object>"
      ]
     },
     "execution_count": 23,
     "metadata": {},
     "output_type": "execute_result"
    }
   ],
   "source": [
    "dat2jpg(\"./input.dat\", \"./input.jpg\")\n",
    "display(\"./input.jpg\")"
   ]
  },
  {
   "cell_type": "code",
   "execution_count": null,
   "id": "4b3eea87",
   "metadata": {},
   "outputs": [],
   "source": []
  }
 ],
 "metadata": {
  "kernelspec": {
   "display_name": "Python 3 (ipykernel)",
   "language": "python",
   "name": "python3"
  },
  "language_info": {
   "codemirror_mode": {
    "name": "ipython",
    "version": 3
   },
   "file_extension": ".py",
   "mimetype": "text/x-python",
   "name": "python",
   "nbconvert_exporter": "python",
   "pygments_lexer": "ipython3",
   "version": "3.10.4"
  }
 },
 "nbformat": 4,
 "nbformat_minor": 5
}
