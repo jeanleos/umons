{
 "cells": [
  {
   "cell_type": "markdown",
   "id": "7073572c-9bbc-40ab-a405-8a3da24d6806",
   "metadata": {},
   "source": [
    "# Matrices convolution using Winograd's algorithm\n",
    "\n",
    "In this notebook, we explore Winograd's convolution. We use the matrices as defined by Lavin and Gray (2015) doi :     \n",
    "https://doi.org/10.48550/arXiv.1509.09308"
   ]
  },
  {
   "cell_type": "code",
   "execution_count": 1,
   "id": "0c448678-309c-4ed9-bca1-726c2d1435ba",
   "metadata": {},
   "outputs": [],
   "source": [
    "import numpy as np"
   ]
  },
  {
   "cell_type": "markdown",
   "id": "67a5ba78-f2f9-4660-9dff-37a6d21e9dea",
   "metadata": {},
   "source": [
    "## First example\n",
    "\n",
    "$4\\times 4$ matrix with a kernel of $3\\times 3$\n",
    "\n",
    "### Input and Kernel"
   ]
  },
  {
   "cell_type": "code",
   "execution_count": 23,
   "id": "ed3f1f25-b689-4844-bfb1-45fec2ce4bde",
   "metadata": {},
   "outputs": [],
   "source": [
    "D = np.array([[1, 2, 3, 4], [5, 6, 7, 8], [9, 10, 11, 12], [13, 14, 15, 16]], dtype=np.float32)"
   ]
  },
  {
   "cell_type": "code",
   "execution_count": 24,
   "id": "6299a252-74de-4d4c-8ff6-4739ddda9c3f",
   "metadata": {},
   "outputs": [
    {
     "data": {
      "text/plain": [
       "array([[ 1.,  2.,  3.,  4.],\n",
       "       [ 5.,  6.,  7.,  8.],\n",
       "       [ 9., 10., 11., 12.],\n",
       "       [13., 14., 15., 16.]], dtype=float32)"
      ]
     },
     "execution_count": 24,
     "metadata": {},
     "output_type": "execute_result"
    }
   ],
   "source": [
    "D"
   ]
  },
  {
   "cell_type": "code",
   "execution_count": 25,
   "id": "fd9d7ade-54e6-47ee-8ceb-f86bdeefbd61",
   "metadata": {},
   "outputs": [],
   "source": [
    "g = np.array([[1, 0, -1], [2, 0, 2], [1, 0, -1]], dtype=np.float32)"
   ]
  },
  {
   "cell_type": "code",
   "execution_count": 26,
   "id": "ca2ff7f0-970f-472f-b303-c27fe7312a69",
   "metadata": {},
   "outputs": [
    {
     "data": {
      "text/plain": [
       "array([[ 1.,  0., -1.],\n",
       "       [ 2.,  0.,  2.],\n",
       "       [ 1.,  0., -1.]], dtype=float32)"
      ]
     },
     "execution_count": 26,
     "metadata": {},
     "output_type": "execute_result"
    }
   ],
   "source": [
    "g"
   ]
  },
  {
   "cell_type": "markdown",
   "id": "b728b9d3-7488-4024-9def-796c0b0e1a22",
   "metadata": {},
   "source": [
    "### Winograd matrices"
   ]
  },
  {
   "cell_type": "code",
   "execution_count": 27,
   "id": "c23591b9-6ca4-4fe4-bdbe-d3435beaee2a",
   "metadata": {},
   "outputs": [],
   "source": [
    "G = np.array([[1, 0, 0], [1/2, 1/2, 1/2], [1/2, -1/2, 1/2], [0, 0, 1]], dtype=np.float32)"
   ]
  },
  {
   "cell_type": "code",
   "execution_count": 28,
   "id": "828c3b36-25af-49ba-85e9-8dbde79926f0",
   "metadata": {},
   "outputs": [
    {
     "data": {
      "text/plain": [
       "array([[ 1. ,  0. ,  0. ],\n",
       "       [ 0.5,  0.5,  0.5],\n",
       "       [ 0.5, -0.5,  0.5],\n",
       "       [ 0. ,  0. ,  1. ]], dtype=float32)"
      ]
     },
     "execution_count": 28,
     "metadata": {},
     "output_type": "execute_result"
    }
   ],
   "source": [
    "G"
   ]
  },
  {
   "cell_type": "code",
   "execution_count": 29,
   "id": "07821e8f-efe7-4a03-9a8c-0dc47d45d9e6",
   "metadata": {},
   "outputs": [],
   "source": [
    "Bt = np.array([[1, 0, -1, 0], [0, 1, 1, 0], [0, -1, 1, 0], [0, 1, 0, -1]], dtype=np.float32)"
   ]
  },
  {
   "cell_type": "code",
   "execution_count": 30,
   "id": "693a0abb-f1f7-4164-bc23-c5ad58201aac",
   "metadata": {},
   "outputs": [
    {
     "data": {
      "text/plain": [
       "array([[ 1.,  0., -1.,  0.],\n",
       "       [ 0.,  1.,  1.,  0.],\n",
       "       [ 0., -1.,  1.,  0.],\n",
       "       [ 0.,  1.,  0., -1.]], dtype=float32)"
      ]
     },
     "execution_count": 30,
     "metadata": {},
     "output_type": "execute_result"
    }
   ],
   "source": [
    "Bt"
   ]
  },
  {
   "cell_type": "code",
   "execution_count": 31,
   "id": "ebb6a0ee-be43-41e1-b151-bc43c5905f7e",
   "metadata": {},
   "outputs": [],
   "source": [
    "At = np.array([[1, 1, 1, 0], [0, 1, -1, -1]], dtype=np.float32)"
   ]
  },
  {
   "cell_type": "code",
   "execution_count": 32,
   "id": "38bfa095-3ca8-4e23-ad8a-3f984a9dad4f",
   "metadata": {},
   "outputs": [
    {
     "data": {
      "text/plain": [
       "array([[ 1.,  1.,  1.,  0.],\n",
       "       [ 0.,  1., -1., -1.]], dtype=float32)"
      ]
     },
     "execution_count": 32,
     "metadata": {},
     "output_type": "execute_result"
    }
   ],
   "source": [
    "At"
   ]
  },
  {
   "cell_type": "markdown",
   "id": "67b99141-cf92-4892-930b-41ba382e5f72",
   "metadata": {},
   "source": [
    "### Intermediate matrices"
   ]
  },
  {
   "cell_type": "code",
   "execution_count": 33,
   "id": "7128691c-b841-415c-a6dc-d01060475ef8",
   "metadata": {},
   "outputs": [
    {
     "data": {
      "text/plain": [
       "((4, 3), (3, 3), (3, 4))"
      ]
     },
     "execution_count": 33,
     "metadata": {},
     "output_type": "execute_result"
    }
   ],
   "source": [
    "G.shape, g.shape, G.T.shape"
   ]
  },
  {
   "cell_type": "code",
   "execution_count": 34,
   "id": "84c946c7-4ef2-41ed-97a6-c163519d328f",
   "metadata": {},
   "outputs": [],
   "source": [
    "U = G @ g @ G.T"
   ]
  },
  {
   "cell_type": "code",
   "execution_count": 35,
   "id": "ca561dbc-dd28-42ed-83ac-46d03a753cb4",
   "metadata": {},
   "outputs": [
    {
     "data": {
      "text/plain": [
       "array([[ 1.,  0.,  0., -1.],\n",
       "       [ 2.,  1.,  1.,  0.],\n",
       "       [ 0., -1., -1., -2.],\n",
       "       [ 1.,  0.,  0., -1.]], dtype=float32)"
      ]
     },
     "execution_count": 35,
     "metadata": {},
     "output_type": "execute_result"
    }
   ],
   "source": [
    "U"
   ]
  },
  {
   "cell_type": "code",
   "execution_count": 36,
   "id": "ec357731-f41a-4bea-8a1e-de965958758c",
   "metadata": {},
   "outputs": [],
   "source": [
    "V = Bt @ D @ Bt.T"
   ]
  },
  {
   "cell_type": "code",
   "execution_count": 37,
   "id": "efdd492c-5f5a-4c26-aa4c-737192a783e1",
   "metadata": {},
   "outputs": [
    {
     "data": {
      "text/plain": [
       "array([[  0., -16.,   0.,   0.],\n",
       "       [ -4.,  34.,   2.,  -4.],\n",
       "       [  0.,   8.,   0.,   0.],\n",
       "       [  0., -16.,   0.,   0.]], dtype=float32)"
      ]
     },
     "execution_count": 37,
     "metadata": {},
     "output_type": "execute_result"
    }
   ],
   "source": [
    "V"
   ]
  },
  {
   "cell_type": "code",
   "execution_count": 38,
   "id": "8579fc97-a50d-41a3-8cbd-4f2b052a0d63",
   "metadata": {},
   "outputs": [],
   "source": [
    "M = U * V"
   ]
  },
  {
   "cell_type": "code",
   "execution_count": 39,
   "id": "a149c54e-5d55-478a-8019-c750c46e20ce",
   "metadata": {},
   "outputs": [
    {
     "data": {
      "text/plain": [
       "array([[ 0., -0.,  0., -0.],\n",
       "       [-8., 34.,  2., -0.],\n",
       "       [ 0., -8., -0., -0.],\n",
       "       [ 0., -0.,  0., -0.]], dtype=float32)"
      ]
     },
     "execution_count": 39,
     "metadata": {},
     "output_type": "execute_result"
    }
   ],
   "source": [
    "M"
   ]
  },
  {
   "cell_type": "markdown",
   "id": "923d83df-277e-4427-8376-c6587c481947",
   "metadata": {},
   "source": [
    "### Output"
   ]
  },
  {
   "cell_type": "code",
   "execution_count": 40,
   "id": "9f5c1a40-bf46-4860-a330-ce978835c992",
   "metadata": {},
   "outputs": [],
   "source": [
    "Y = At @ M @ At.T"
   ]
  },
  {
   "cell_type": "code",
   "execution_count": 64,
   "id": "d6cb3c09-15b1-49c0-b366-3bde8cdcef71",
   "metadata": {},
   "outputs": [
    {
     "data": {
      "text/plain": [
       "array([[28.      , 33.6     ],\n",
       "       [50.399998, 56.      ]], dtype=float32)"
      ]
     },
     "execution_count": 64,
     "metadata": {},
     "output_type": "execute_result"
    }
   ],
   "source": [
    "1.4 * Y"
   ]
  },
  {
   "cell_type": "markdown",
   "id": "b46392d9-94ba-4e59-8b87-e78268135624",
   "metadata": {},
   "source": [
    "### Verification"
   ]
  },
  {
   "cell_type": "code",
   "execution_count": 65,
   "id": "451af581-7be3-4dc0-86b6-58e90da89714",
   "metadata": {},
   "outputs": [],
   "source": [
    "import scipy"
   ]
  },
  {
   "cell_type": "code",
   "execution_count": 71,
   "id": "a5e18062-82f9-48ad-9fa6-6584325605e9",
   "metadata": {},
   "outputs": [
    {
     "data": {
      "text/plain": [
       "array([[28., 32.],\n",
       "       [44., 48.]], dtype=float32)"
      ]
     },
     "execution_count": 71,
     "metadata": {},
     "output_type": "execute_result"
    }
   ],
   "source": [
    "scipy.signal.convolve2d(D, g, mode='valid')"
   ]
  },
  {
   "cell_type": "markdown",
   "id": "83263934",
   "metadata": {},
   "source": [
    "## Generate A, B, and G\n",
    "\n",
    "We can use https://github.com/andravin/wincnn that automatically generates the above matrices."
   ]
  },
  {
   "cell_type": "code",
   "execution_count": 1,
   "id": "33966757-d956-4fe3-af7d-414de2fa44e3",
   "metadata": {},
   "outputs": [],
   "source": [
    "from __future__ import print_function\n",
    "from sympy import symbols, Matrix, Poly, zeros, eye, Indexed, simplify, IndexedBase, init_printing, pprint\n",
    "from operator import mul\n",
    "from functools import reduce\n",
    "\n",
    "def At(a,m,n):\n",
    "    return Matrix(m, n, lambda i,j: a[i]**j)\n",
    "\n",
    "def A(a,m,n):\n",
    "    return At(a, m-1, n).row_insert(m-1, Matrix(1, n, lambda i,j: 1 if j==n-1 else 0))\n",
    "\n",
    "def T(a,n):\n",
    "    return Matrix(Matrix.eye(n).col_insert(n, Matrix(n, 1, lambda i,j: -a[i]**n)))\n",
    "\n",
    "def Lx(a,n):\n",
    "    x=symbols('x')\n",
    "    return Matrix(n, 1, lambda i,j: Poly((reduce(mul, ((x-a[k] if k!=i else 1) for k in range(0,n)), 1)).expand(basic=True), x))\n",
    "\n",
    "def F(a,n):\n",
    "    return Matrix(n, 1, lambda i,j: reduce(mul, ((a[i]-a[k] if k!=i else 1) for k in range(0,n)), 1))\n",
    "\n",
    "def Fdiag(a,n):\n",
    "    f=F(a,n)\n",
    "    return Matrix(n, n, lambda i,j: (f[i,0] if i==j else 0))\n",
    "\n",
    "def FdiagPlus1(a,n):\n",
    "    f = Fdiag(a,n-1)\n",
    "    f = f.col_insert(n-1, zeros(n-1,1))\n",
    "    f = f.row_insert(n-1, Matrix(1,n, lambda i,j: (1 if j==n-1 else 0)))\n",
    "    return f\n",
    "\n",
    "def L(a,n):\n",
    "    lx = Lx(a,n)\n",
    "    f = F(a, n)\n",
    "    return Matrix(n, n, lambda i,j: lx[i, 0].nth(j)/f[i]).T\n",
    "\n",
    "def Bt(a,n):\n",
    "    return L(a,n)*T(a,n)\n",
    "\n",
    "def B(a,n):\n",
    "    return Bt(a,n-1).row_insert(n-1, Matrix(1, n, lambda i,j: 1 if j==n-1 else 0))\n",
    "\n",
    "FractionsInG=0\n",
    "FractionsInA=1\n",
    "FractionsInB=2\n",
    "FractionsInF=3\n",
    "\n",
    "def cookToomFilter(a,n,r,fractionsIn=FractionsInG):\n",
    "    alpha = n+r-1\n",
    "    f = FdiagPlus1(a,alpha)\n",
    "    if f[0,0] < 0:\n",
    "        f[0,:] *= -1\n",
    "    if fractionsIn == FractionsInG:\n",
    "        AT = A(a,alpha,n).T\n",
    "        G = (A(a,alpha,r).T*f**(-1)).T\n",
    "        BT = f * B(a,alpha).T\n",
    "    elif fractionsIn == FractionsInA:\n",
    "        BT = f * B(a,alpha).T\n",
    "        G = A(a,alpha,r)\n",
    "        AT = (A(a,alpha,n)).T*f**(-1)\n",
    "    elif fractionsIn == FractionsInB:\n",
    "        AT = A(a,alpha,n).T\n",
    "        G = A(a,alpha,r)\n",
    "        BT = B(a,alpha).T\n",
    "    else:\n",
    "        AT = A(a,alpha,n).T\n",
    "        G = A(a,alpha,r)\n",
    "        BT = f * B(a,alpha).T\n",
    "    return (AT,G,BT,f)\n",
    "\n",
    "\n",
    "def filterVerify(n, r, AT, G, BT):\n",
    "\n",
    "    alpha = n+r-1\n",
    "\n",
    "    di = IndexedBase('d')\n",
    "    gi = IndexedBase('g')\n",
    "    d = Matrix(alpha, 1, lambda i,j: di[i])\n",
    "    g = Matrix(r, 1, lambda i,j: gi[i])\n",
    "\n",
    "    V = BT*d\n",
    "    U = G*g\n",
    "    M = U.multiply_elementwise(V)\n",
    "    Y = simplify(AT*M)\n",
    "\n",
    "    return Y\n",
    "\n",
    "def convolutionVerify(n, r, B, G, A):\n",
    "\n",
    "    di = IndexedBase('d')\n",
    "    gi = IndexedBase('g')\n",
    "\n",
    "    d = Matrix(n, 1, lambda i,j: di[i])\n",
    "    g = Matrix(r, 1, lambda i,j: gi[i])\n",
    "\n",
    "    V = A*d\n",
    "    U = G*g\n",
    "    M = U.multiply_elementwise(V)\n",
    "    Y = simplify(B*M)\n",
    "\n",
    "    return Y\n",
    "\n",
    "def showCookToomFilter(a,n,r,fractionsIn=FractionsInG):\n",
    "\n",
    "    AT,G,BT,f = cookToomFilter(a,n,r,fractionsIn)\n",
    "\n",
    "    print (\"AT = \")\n",
    "    pprint(AT)\n",
    "    print (\"\")\n",
    "\n",
    "    print (\"G = \")\n",
    "    pprint(G)\n",
    "    print (\"\")\n",
    "\n",
    "    print (\"BT = \")\n",
    "    pprint(BT)\n",
    "    print (\"\")\n",
    "\n",
    "    if fractionsIn != FractionsInF:\n",
    "        print (\"FIR filter: AT*((G*g)(BT*d)) =\")\n",
    "        pprint(filterVerify(n,r,AT,G,BT))\n",
    "        print (\"\")\n",
    "\n",
    "    if fractionsIn == FractionsInF:\n",
    "        print (\"fractions = \")\n",
    "        pprint(f)\n",
    "        print (\"\")\n",
    "\n",
    "def showCookToomConvolution(a,n,r,fractionsIn=FractionsInG):\n",
    "\n",
    "    AT,G,BT,f = cookToomFilter(a,n,r,fractionsIn)\n",
    "\n",
    "    B = BT.transpose()\n",
    "    A = AT.transpose()\n",
    "\n",
    "    print (\"A = \")\n",
    "    pprint(A)\n",
    "    print (\"\")\n",
    "\n",
    "    print (\"G = \")\n",
    "    pprint(G)\n",
    "    print (\"\")\n",
    "\n",
    "    print (\"B = \")\n",
    "    pprint(B)\n",
    "    print (\"\")\n",
    "\n",
    "    if fractionsIn != FractionsInF:\n",
    "        print (\"Linear Convolution: B*((G*g)(A*d)) =\")\n",
    "        pprint(convolutionVerify(n,r,B,G,A))\n",
    "        print (\"\")\n",
    "\n",
    "    if fractionsIn == FractionsInF:\n",
    "        print (\"fractions = \")\n",
    "        pprint(f)\n",
    "        print (\"\")\n"
   ]
  },
  {
   "cell_type": "code",
   "execution_count": 6,
   "id": "0a155d7a-eb71-4ff1-a74d-9c66578cdcc0",
   "metadata": {},
   "outputs": [
    {
     "name": "stdout",
     "output_type": "stream",
     "text": [
      "A = \n",
      "⎡1  0   0⎤\n",
      "⎢        ⎥\n",
      "⎢1  1   1⎥\n",
      "⎢        ⎥\n",
      "⎢1  -1  1⎥\n",
      "⎢        ⎥\n",
      "⎢1  2   4⎥\n",
      "⎢        ⎥\n",
      "⎣0  0   1⎦\n",
      "\n",
      "G = \n",
      "⎡1/2    0     0  ⎤\n",
      "⎢                ⎥\n",
      "⎢-1/2  -1/2  -1/2⎥\n",
      "⎢                ⎥\n",
      "⎢-1/6  1/6   -1/6⎥\n",
      "⎢                ⎥\n",
      "⎢1/6   1/3   2/3 ⎥\n",
      "⎢                ⎥\n",
      "⎣ 0     0     1  ⎦\n",
      "\n",
      "B = \n",
      "⎡2   0   0   0   0 ⎤\n",
      "⎢                  ⎥\n",
      "⎢-1  -2  2   -1  2 ⎥\n",
      "⎢                  ⎥\n",
      "⎢-2  -1  -3  0   -1⎥\n",
      "⎢                  ⎥\n",
      "⎢1   1   1   1   -2⎥\n",
      "⎢                  ⎥\n",
      "⎣0   0   0   0   1 ⎦\n",
      "\n",
      "Linear Convolution: B*((G*g)(A*d)) =\n",
      "⎡            d[0]⋅g[0]            ⎤\n",
      "⎢                                 ⎥\n",
      "⎢      d[0]⋅g[1] + d[1]⋅g[0]      ⎥\n",
      "⎢                                 ⎥\n",
      "⎢d[0]⋅g[2] + d[1]⋅g[1] + d[2]⋅g[0]⎥\n",
      "⎢                                 ⎥\n",
      "⎢      d[1]⋅g[2] + d[2]⋅g[1]      ⎥\n",
      "⎢                                 ⎥\n",
      "⎣            d[2]⋅g[2]            ⎦\n",
      "\n"
     ]
    },
    {
     "name": "stderr",
     "output_type": "stream",
     "text": [
      "/tmp/ipykernel_348864/2220159112.py:17: SymPyDeprecationWarning: \n",
      "\n",
      "non-Expr objects in a Matrix is deprecated. Matrix represents\n",
      "a mathematical matrix. To represent a container of non-numeric\n",
      "entities, Use a list of lists, TableForm, NumPy array, or some\n",
      "other data structure instead.\n",
      "\n",
      "See https://docs.sympy.org/latest/explanation/active-deprecations.html#deprecated-non-expr-in-matrix\n",
      "for details.\n",
      "\n",
      "This has been deprecated since SymPy version 1.9. It\n",
      "will be removed in a future version of SymPy.\n",
      "\n",
      "  return Matrix(n, 1, lambda i,j: Poly((reduce(mul, ((x-a[k] if k!=i else 1) for k in range(0,n)), 1)).expand(basic=True), x))\n"
     ]
    }
   ],
   "source": [
    "showCookToomConvolution((0, 1, -1, 2, -2), 3, 3)"
   ]
  },
  {
   "cell_type": "code",
   "execution_count": null,
   "id": "4b4b541f-dee1-4fef-b5dc-abfc2bc8c8d1",
   "metadata": {},
   "outputs": [],
   "source": []
  }
 ],
 "metadata": {
  "kernelspec": {
   "display_name": "Python 3 (ipykernel)",
   "language": "python",
   "name": "python3"
  },
  "language_info": {
   "codemirror_mode": {
    "name": "ipython",
    "version": 3
   },
   "file_extension": ".py",
   "mimetype": "text/x-python",
   "name": "python",
   "nbconvert_exporter": "python",
   "pygments_lexer": "ipython3",
   "version": "3.12.7"
  }
 },
 "nbformat": 4,
 "nbformat_minor": 5
}
